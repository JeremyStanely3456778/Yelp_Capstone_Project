{
  "nbformat": 4,
  "nbformat_minor": 0,
  "metadata": {
    "colab": {
      "provenance": [],
      "collapsed_sections": []
    },
    "kernelspec": {
      "name": "python3",
      "display_name": "Python 3"
    },
    "language_info": {
      "name": "python"
    }
  },
  "cells": [
    {
      "cell_type": "markdown",
      "source": [
        "Install Dependencies"
      ],
      "metadata": {
        "id": "UM_tHP4ThIaA"
      }
    },
    {
      "cell_type": "code",
      "source": [
        "#Additional Dependenices\n",
        "import pandas as pd\n",
        "from google.cloud import bigquery\n",
        "from pandas.io.gbq import read_gbq, to_gbq"
      ],
      "metadata": {
        "id": "lgweML1lvC7l"
      },
      "execution_count": null,
      "outputs": []
    },
    {
      "cell_type": "markdown",
      "source": [
        "Read JSON Files with Pandas"
      ],
      "metadata": {
        "id": "7UYs95VJ6xZ8"
      }
    },
    {
      "cell_type": "code",
      "source": [
        "#took 76.0 seconds to execute\n",
        "file_path1 = \"gs://capstone_yelp_project/yelp_academic_dataset_business.json\"\n",
        "file_path2 = \"gs://capstone_yelp_project/yelp_academic_dataset_checkin.json\"\n",
        "file_path3 = \"gs://capstone_yelp_project/yelp_academic_dataset_tip.json\"\n",
        "academic_dataset_business_df = pd.read_json(file_path1, lines=True,storage_options={\"token\": \"/content/decent-beacon-367514-b8eb5fa24905.json\"})\n",
        "academic_dataset_checkin_df = pd.read_json(file_path2, lines=True,storage_options={\"token\": \"/content/decent-beacon-367514-b8eb5fa24905.json\"})\n",
        "academic_dataset_tips_df = pd.read_json(file_path3, lines=True,storage_options={\"token\": \"/content/decent-beacon-367514-b8eb5fa24905.json\"})\n"
      ],
      "metadata": {
        "id": "zSlbwievPy8Z"
      },
      "execution_count": null,
      "outputs": []
    },
    {
      "cell_type": "code",
      "source": [
        "academic_dataset_business_df.head()"
      ],
      "metadata": {
        "id": "d82QD0LojMwG"
      },
      "execution_count": null,
      "outputs": []
    },
    {
      "cell_type": "markdown",
      "source": [
        "Transform: Convert Data from JSON to CSV Format"
      ],
      "metadata": {
        "id": "Q_ZpMLEUWOTY"
      }
    },
    {
      "cell_type": "code",
      "source": [
        "#executed in 19 secs\n",
        "academic_dataset_business_df.to_csv('yelp_academic_dataset_business.csv')\n",
        "academic_dataset_checkin_df.to_csv('yelp_academic_dataset_checkin.csv')\n",
        "academic_dataset_tips_df.to_csv('yelp_academic_dataset_tip.csv')"
      ],
      "metadata": {
        "id": "bcq1IT7mWJx5"
      },
      "execution_count": null,
      "outputs": []
    },
    {
      "cell_type": "markdown",
      "source": [
        "Write CSV Files to Google Cloud BigQuery"
      ],
      "metadata": {
        "id": "Wjf8WdPoY85O"
      }
    },
    {
      "cell_type": "markdown",
      "source": [
        "Upload Business Data into Table"
      ],
      "metadata": {
        "id": "OfKVclPmdnPb"
      }
    },
    {
      "cell_type": "code",
      "source": [
        "# approach 2\n",
        "df1 = pd.read_csv('/content/yelp_academic_dataset_business.csv')\n",
        "df1.drop('Unnamed: 0', axis=1, inplace=True)\n",
        "dataset_table = 'Yelp.Yelp_academic_dataset_business'\n",
        "projectid = 'decent-beacon-367514'\n",
        "\n",
        "to_gbq(df1, dataset_table, projectid ,chunksize=10000, if_exists='append')"
      ],
      "metadata": {
        "colab": {
          "base_uri": "https://localhost:8080/"
        },
        "id": "rlh4ZAGxdfBy",
        "outputId": "36eb3a2e-d68a-4a87-d9cc-786c1b36f88a"
      },
      "execution_count": null,
      "outputs": [
        {
          "output_type": "stream",
          "name": "stderr",
          "text": [
            "16it [01:34,  5.92s/it]\n"
          ]
        }
      ]
    },
    {
      "cell_type": "markdown",
      "source": [
        "Upload Checkin Data into Table"
      ],
      "metadata": {
        "id": "-CP0q6DzmIed"
      }
    },
    {
      "cell_type": "code",
      "source": [
        "df2 = pd.read_csv('/content/yelp_academic_dataset_checkin.csv')\n",
        "df2.drop('Unnamed: 0', axis=1, inplace=True)\n",
        "dataset_table2 = 'Yelp.Yelp_academic_dataset_checkin'\n",
        "projectid = 'decent-beacon-367514'\n",
        "\n",
        "to_gbq(df2, dataset_table2, projectid ,chunksize=10000, if_exists='append')"
      ],
      "metadata": {
        "colab": {
          "base_uri": "https://localhost:8080/"
        },
        "id": "ETyZlARBmGqV",
        "outputId": "1e17b030-7129-4cb2-e8cf-0f058d702aab"
      },
      "execution_count": null,
      "outputs": [
        {
          "output_type": "stream",
          "name": "stderr",
          "text": [
            "14it [02:03,  8.80s/it]\n"
          ]
        }
      ]
    },
    {
      "cell_type": "code",
      "source": [
        "df3 = pd.read_csv('/content/yelp_academic_dataset_tip.csv')\n",
        "df3.drop('Unnamed: 0', axis=1, inplace=True)\n",
        "dataset_table3 = 'Yelp.Yelp_academic_dataset_tip'\n",
        "projectid = 'decent-beacon-367514'\n",
        "\n",
        "to_gbq(df3, dataset_table3, projectid ,chunksize=10000, if_exists='append')"
      ],
      "metadata": {
        "colab": {
          "base_uri": "https://localhost:8080/"
        },
        "id": "2UC-7EBjn-gm",
        "outputId": "8947a4f1-e95b-47b0-d2ad-0d4ea3c334ba"
      },
      "execution_count": null,
      "outputs": [
        {
          "output_type": "stream",
          "name": "stderr",
          "text": [
            "91it [07:02,  4.64s/it]\n"
          ]
        }
      ]
    }
  ]
}